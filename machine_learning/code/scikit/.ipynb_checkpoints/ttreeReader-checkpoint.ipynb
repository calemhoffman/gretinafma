{
 "cells": [
  {
   "cell_type": "code",
   "execution_count": 1,
   "metadata": {
    "scrolled": true
   },
   "outputs": [
    {
     "name": "stdout",
     "output_type": "stream",
     "text": [
      "Welcome to JupyROOT 6.18/00\n"
     ]
    }
   ],
   "source": [
    "import ROOT\n",
    "from sys import exit\n",
    "import numpy as np\n",
    "from numpy.testing import assert_array_equal\n",
    "from nose.tools import (raises, assert_raises, assert_true,\n",
    "                        assert_equal, assert_almost_equal)\n",
    "import root_numpy as rnp\n",
    "import pandas as pd\n",
    "ROOT.ROOT.EnableImplicitMT()"
   ]
  },
  {
   "cell_type": "code",
   "execution_count": 2,
   "metadata": {},
   "outputs": [],
   "source": [
    "#new way root_numpy tools\n",
    "#list ttree branches if you want\n",
    "#rnp.list_branches(\"../data_02/cal_28.root\")"
   ]
  },
  {
   "cell_type": "code",
   "execution_count": 3,
   "metadata": {
    "scrolled": true
   },
   "outputs": [
    {
     "name": "stdout",
     "output_type": "stream",
     "text": [
      "(444328,)\n",
      "[(-210.13159  , 2039.188 , 1065.3593, 1071.864, 3104.5474, 3111.052 , 2137.2231, 4176.411 , 2)\n",
      " ( -54.554443 , 1369.8027,  662.1592,  479.864, 2031.9619, 1849.6667, 1142.0232, 2511.826 , 2)\n",
      " (   7.7700195, 1311.0847,  542.1592,  434.864, 1853.2439, 1745.9487,  977.0232, 2288.108 , 2)\n",
      " ...\n",
      " (  13.77002  , 1543.608 ,  675.3592,  606.864, 2218.9673, 2150.4722, 1282.2231, 2825.8313, 2)\n",
      " ( 221.39062  , 1338.095 ,  624.9592,  487.864, 1963.0542, 1825.959 , 1112.8232, 2450.9182, 2)\n",
      " ( 260.80908  , 1446.1361,  743.7592,  576.864, 2189.8953, 2023.0001, 1320.6233, 2766.7593, 2)]\n"
     ]
    }
   ],
   "source": [
    "#read in only ion chamber e's\n",
    "data = rnp.root2array(\"../data_02/mlTree.root\",\"mltree\",branches=['x','e1','e2','e3','e12','e13',\n",
    "                                                                   'e23','e123','recoilID'])\n",
    "print(data.shape)\n",
    "assert_equal(data.dtype.names, ('x','e1','e2','e3','e12','e13','e23','e123','recoilID'))\n",
    "print(data)"
   ]
  },
  {
   "cell_type": "code",
   "execution_count": 4,
   "metadata": {},
   "outputs": [
    {
     "name": "stdout",
     "output_type": "stream",
     "text": [
      "                 x           e1           e2           e3          e12  \\\n",
      "0      -210.131592  2039.187988  1065.359253  1071.864014  3104.547363   \n",
      "1       -54.554443  1369.802734   662.159180   479.864014  2031.961914   \n",
      "2         7.770020  1311.084717   542.159180   434.864014  1853.243896   \n",
      "3        39.258057  1446.136108   606.959229   525.864014  2053.095215   \n",
      "4      -140.597900  1341.618164   641.759216   502.864014  1983.377441   \n",
      "...            ...          ...          ...          ...          ...   \n",
      "444323  -53.412842  1439.089966   611.759216   492.864014  2050.849121   \n",
      "444324   19.676514  1408.556641   597.359192   505.864014  2005.915771   \n",
      "444325   13.770020  1543.608032   675.359192   606.864014  2218.967285   \n",
      "444326  221.390625  1338.094971   624.959229   487.864014  1963.054199   \n",
      "444327  260.809082  1446.136108   743.759216   576.864014  2189.895264   \n",
      "\n",
      "                e13          e23         e123  recoilID  \n",
      "0       3111.052002  2137.223145  4176.411133         2  \n",
      "1       1849.666748  1142.023193  2511.825928         2  \n",
      "2       1745.948730   977.023193  2288.107910         2  \n",
      "3       1972.000122  1132.823242  2578.959229         2  \n",
      "4       1844.482178  1144.623291  2486.241455         2  \n",
      "...             ...          ...          ...       ...  \n",
      "444323  1931.953979  1104.623291  2543.713135         2  \n",
      "444324  1914.420654  1103.223145  2511.779785         2  \n",
      "444325  2150.472168  1282.223145  2825.831299         2  \n",
      "444326  1825.958984  1112.823242  2450.918213         2  \n",
      "444327  2023.000122  1320.623291  2766.759277         2  \n",
      "\n",
      "[444328 rows x 9 columns]\n"
     ]
    }
   ],
   "source": [
    "#convert to pandas\n",
    "res_df = pd.DataFrame(data=data)\n",
    "print(res_df)"
   ]
  },
  {
   "cell_type": "code",
   "execution_count": 5,
   "metadata": {},
   "outputs": [
    {
     "name": "stdout",
     "output_type": "stream",
     "text": [
      "(444328, 9)\n"
     ]
    }
   ],
   "source": [
    "print(res_df.shape)"
   ]
  },
  {
   "cell_type": "code",
   "execution_count": 6,
   "metadata": {},
   "outputs": [],
   "source": [
    "#look at data loaded\n",
    "import matplotlib.pyplot as plt\n",
    "#plt.hist(data)\n",
    "plt.figure(figsize=(10,6))\n",
    "plt.hist2d('e13','e1',bins=(500,500), cmax=100,cmap=\"afmhot\",data=res_df)\n",
    "plt.savefig(\"../figs/test.png\")"
   ]
  },
  {
   "cell_type": "raw",
   "metadata": {},
   "source": [
    "import seaborn as sns\n",
    "plt.figure(figsize=(16,10))\n",
    "sns.scatterplot(\n",
    "    x=\"e13\", y=\"e1\",\n",
    "    hue=\"recoilID\",\n",
    "    palette=sns.color_palette(\"muted\", 5),\n",
    "    data=res_df,\n",
    "    legend=\"full\",\n",
    "    alpha=0.5\n",
    ")\n",
    "plt.savefig(\"../figs/test.png\")"
   ]
  },
  {
   "cell_type": "code",
   "execution_count": 7,
   "metadata": {},
   "outputs": [
    {
     "name": "stdout",
     "output_type": "stream",
     "text": [
      "(444328, 9)\n",
      "                 x           e1           e2           e3          e12  \\\n",
      "0      -210.131592  2039.187988  1065.359253  1071.864014  3104.547363   \n",
      "1       -54.554443  1369.802734   662.159180   479.864014  2031.961914   \n",
      "2         7.770020  1311.084717   542.159180   434.864014  1853.243896   \n",
      "3        39.258057  1446.136108   606.959229   525.864014  2053.095215   \n",
      "4      -140.597900  1341.618164   641.759216   502.864014  1983.377441   \n",
      "...            ...          ...          ...          ...          ...   \n",
      "444323  -53.412842  1439.089966   611.759216   492.864014  2050.849121   \n",
      "444324   19.676514  1408.556641   597.359192   505.864014  2005.915771   \n",
      "444325   13.770020  1543.608032   675.359192   606.864014  2218.967285   \n",
      "444326  221.390625  1338.094971   624.959229   487.864014  1963.054199   \n",
      "444327  260.809082  1446.136108   743.759216   576.864014  2189.895264   \n",
      "\n",
      "                e13          e23         e123  recoilID  \n",
      "0       3111.052002  2137.223145  4176.411133         2  \n",
      "1       1849.666748  1142.023193  2511.825928         2  \n",
      "2       1745.948730   977.023193  2288.107910         2  \n",
      "3       1972.000122  1132.823242  2578.959229         2  \n",
      "4       1844.482178  1144.623291  2486.241455         2  \n",
      "...             ...          ...          ...       ...  \n",
      "444323  1931.953979  1104.623291  2543.713135         2  \n",
      "444324  1914.420654  1103.223145  2511.779785         2  \n",
      "444325  2150.472168  1282.223145  2825.831299         2  \n",
      "444326  1825.958984  1112.823242  2450.918213         2  \n",
      "444327  2023.000122  1320.623291  2766.759277         2  \n",
      "\n",
      "[444328 rows x 9 columns]\n",
      "(444328, 9)\n",
      "[[0.49348488 0.67939487 0.52898554 ... 0.4803141  0.55045781 0.2       ]\n",
      " [0.61686994 0.26873199 0.36666667 ... 0.21448795 0.2285383  0.2       ]\n",
      " [0.6662982  0.23270892 0.31835749 ... 0.17041508 0.18527275 0.2       ]\n",
      " ...\n",
      " [0.67105668 0.37536025 0.37198068 ... 0.25193652 0.28926481 0.2       ]\n",
      " [0.83571635 0.24927951 0.35169084 ... 0.2066884  0.21675916 0.2       ]\n",
      " [0.86697832 0.31556194 0.39951692 ... 0.26219352 0.27784068 0.2       ]]\n"
     ]
    }
   ],
   "source": [
    "#convert data to range from 0-1\n",
    "from sklearn.preprocessing import MinMaxScaler\n",
    "from sklearn.preprocessing import StandardScaler\n",
    "from sklearn.preprocessing import OneHotEncoder\n",
    "from sklearn.pipeline import Pipeline\n",
    "data_preproc = Pipeline([('stdscaler', StandardScaler()), ('minmax', MinMaxScaler(feature_range=(0, 1)))])\n",
    "print(res_df.shape)\n",
    "print(res_df)\n",
    "data_postproc = data_preproc.fit_transform(res_df)\n",
    "print(data_postproc.shape)\n",
    "print(data_postproc)"
   ]
  },
  {
   "cell_type": "code",
   "execution_count": 8,
   "metadata": {},
   "outputs": [
    {
     "name": "stdout",
     "output_type": "stream",
     "text": [
      "None\n",
      "None\n"
     ]
    }
   ],
   "source": [
    "from root_numpy import array2tree\n",
    "tree = ROOT.TTree(\"newtree\", \"test\")\n",
    "print(data_postproc.dtype.names)\n",
    "print(data_postproc.dtype.fields)\n",
    "#needs fields and names added\n",
    "#print(data)\n",
    "#= [('e0', 'float32'), ('e1', 'float32'), ('e2', 'float32')]\n",
    "#tree = array2tree(data)"
   ]
  }
 ],
 "metadata": {
  "celltoolbar": "Raw Cell Format",
  "kernelspec": {
   "display_name": "Python 3",
   "language": "python",
   "name": "python3"
  },
  "language_info": {
   "codemirror_mode": {
    "name": "ipython",
    "version": 3
   },
   "file_extension": ".py",
   "mimetype": "text/x-python",
   "name": "python",
   "nbconvert_exporter": "python",
   "pygments_lexer": "ipython3",
   "version": "3.7.4"
  }
 },
 "nbformat": 4,
 "nbformat_minor": 2
}
