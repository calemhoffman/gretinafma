{
 "cells": [
  {
   "cell_type": "code",
   "execution_count": 1,
   "metadata": {
    "scrolled": true
   },
   "outputs": [
    {
     "name": "stdout",
     "output_type": "stream",
     "text": [
      "Welcome to JupyROOT 6.18/00\n"
     ]
    }
   ],
   "source": [
    "import ROOT"
   ]
  },
  {
   "cell_type": "code",
   "execution_count": 2,
   "metadata": {},
   "outputs": [],
   "source": [
    "from sys import exit\n",
    " \n",
    "try:\n",
    "    import numpy as np\n",
    "except:\n",
    "    print(\"Failed to import numpy.\")\n",
    "    exit()"
   ]
  },
  {
   "cell_type": "code",
   "execution_count": 3,
   "metadata": {},
   "outputs": [],
   "source": [
    "# Helper function to create an example tree\n",
    "def make_example():\n",
    "     root_file = ROOT.TFile(\"pyroot002_example.root\", \"RECREATE\")\n",
    "     tree = ROOT.TTree(\"tree\", \"tutorial\")\n",
    "     x = np.empty((1), dtype=\"float32\")\n",
    "     y = np.empty((1), dtype=\"float32\")\n",
    "     tree.Branch(\"x\", x, \"x/F\")\n",
    "     tree.Branch(\"y\", y, \"y/F\")\n",
    " \n",
    "     for i in range(4):\n",
    "         x[0] = i\n",
    "         y[0] = -i\n",
    "         tree.Fill()\n",
    "     root_file.Write()\n",
    " \n",
    "     return (root_file, x, y), tree\n",
    " "
   ]
  },
  {
   "cell_type": "code",
   "execution_count": 4,
   "metadata": {},
   "outputs": [],
   "source": [
    "# The conversion of the TTree to a numpy array is implemented with multi-\n",
    "# thread support.\n",
    "ROOT.ROOT.EnableImplicitMT()"
   ]
  },
  {
   "cell_type": "code",
   "execution_count": 5,
   "metadata": {},
   "outputs": [],
   "source": [
    "# Create a ROOT file with a tree and the branches \"x\" and \"y\"\n",
    "_, tree = make_example()"
   ]
  },
  {
   "cell_type": "code",
   "execution_count": 6,
   "metadata": {},
   "outputs": [
    {
     "name": "stdout",
     "output_type": "stream",
     "text": [
      "Tree content:\n",
      "[[ 0.  0.]\n",
      " [ 1. -1.]\n",
      " [ 2. -2.]\n",
      " [ 3. -3.]]\n",
      "\n"
     ]
    }
   ],
   "source": [
    "# Print content of the tree by looping explicitly\n",
    "print(\"Tree content:\\n{}\\n\".format(\n",
    "np.asarray([[tree.x, tree.y] for event in tree])))"
   ]
  },
  {
   "cell_type": "code",
   "execution_count": 7,
   "metadata": {},
   "outputs": [
    {
     "name": "stdout",
     "output_type": "stream",
     "text": [
      "Tree converted to a numpy array:\n",
      "[[ 0.  0.]\n",
      " [ 1. -1.]\n",
      " [ 2. -2.]\n",
      " [ 3. -3.]]\n",
      "\n",
      "Return numpy array and labels:\n",
      "['x', 'y']\n",
      "[[ 0.  0.]\n",
      " [ 1. -1.]\n",
      " [ 2. -2.]\n",
      " [ 3. -3.]]\n",
      "\n",
      "Mean of the columns retrieved with a numpy method: [ 1.5 -1.5]\n",
      "\n",
      "Only the content of the branch 'x':\n",
      "[0. 1. 2. 3.]\n",
      "\n",
      "Read all branches except 'x':\n",
      "[ 0. -1. -2. -3.]\n",
      "\n",
      "Return numpy array with data-type 'int':\n",
      "[[ 0  0]\n",
      " [ 1 -1]\n",
      " [ 2 -2]\n",
      " [ 3 -3]]\n",
      "\n",
      "Tree converted to a pandas.DataFrame:\n",
      "     x    y\n",
      "0  0.0  0.0\n",
      "1  1.0 -1.0\n",
      "2  2.0 -2.0\n",
      "3  3.0 -3.0\n"
     ]
    }
   ],
   "source": [
    "# Read-out full tree as numpy array\n",
    "array = tree.AsMatrix()\n",
    "print(\"Tree converted to a numpy array:\\n{}\\n\".format(array))\n",
    " \n",
    "# Get numpy array and according labels of the columns\n",
    "array, labels = tree.AsMatrix(return_labels=True)\n",
    "print(\"Return numpy array and labels:\\n{}\\n{}\\n\".format(labels, array))\n",
    " \n",
    "# Apply numpy methods on the data\n",
    "print(\"Mean of the columns retrieved with a numpy method: {}\\n\".format(\n",
    " np.mean(array, axis=0)))\n",
    " \n",
    "# Read only specific branches\n",
    "array = tree.AsMatrix(columns=[\"x\"])\n",
    "print(\"Only the content of the branch 'x':\\n{}\\n\".format(np.squeeze(array)))\n",
    " \n",
    "array = tree.AsMatrix(exclude=[\"x\"])\n",
    "print(\"Read all branches except 'x':\\n{}\\n\".format(np.squeeze(array)))\n",
    " \n",
    "# Get an array with a specific data-type\n",
    "array = tree.AsMatrix(dtype=\"int\")\n",
    "print(\"Return numpy array with data-type 'int':\\n{}\\n\".format(array))\n",
    " \n",
    "## Convert the tree to a pandas.DataFrame\n",
    "try:\n",
    "    import pandas\n",
    "except:\n",
    "    print(\"Failed to import pandas.\")\n",
    "    exit()\n",
    " \n",
    "data, columns = tree.AsMatrix(return_labels=True)\n",
    "df = pandas.DataFrame(data=data, columns=columns)\n",
    "print(\"Tree converted to a pandas.DataFrame:\\n{}\".format(df))"
   ]
  },
  {
   "cell_type": "code",
   "execution_count": 9,
   "metadata": {},
   "outputs": [],
   "source": [
    "import root_numpy as rnp"
   ]
  },
  {
   "cell_type": "code",
   "execution_count": 10,
   "metadata": {},
   "outputs": [
    {
     "data": {
      "text/plain": [
       "['run',\n",
       " 'hits',\n",
       " 'l',\n",
       " 'r',\n",
       " 'u',\n",
       " 'd',\n",
       " 'x',\n",
       " 'y',\n",
       " 'e',\n",
       " 'gmult',\n",
       " 'genergy',\n",
       " 'dtime',\n",
       " 'gebMult',\n",
       " 'crysId',\n",
       " 'crysNum',\n",
       " 'crysTot_e',\n",
       " 'crysT0',\n",
       " 'crysPolAngle',\n",
       " 'intMaxX',\n",
       " 'intMaxY',\n",
       " 'intMaxZ',\n",
       " 'intMaxE',\n",
       " 'intMaxSeg',\n",
       " 'intMaxSegE']"
      ]
     },
     "execution_count": 10,
     "metadata": {},
     "output_type": "execute_result"
    }
   ],
   "source": []
  },
  {
   "cell_type": "code",
   "execution_count": 12,
   "metadata": {},
   "outputs": [
    {
     "data": {
      "text/plain": [
       "array([[1670.1364 ,  947.81494,  966.413  , ...,    0.     ,    0.     ,\n",
       "           0.     ],\n",
       "       [1773.5524 ,  794.865  ,  759.413  , ...,    0.     ,    0.     ,\n",
       "           0.     ],\n",
       "       [1047.4164 ,  285.47498,  290.413  , ...,    0.     ,    0.     ,\n",
       "           0.     ],\n",
       "       ...,\n",
       "       [1307.6188 ,  478.8493 ,  470.531  , ...,    0.     ,    0.     ,\n",
       "           0.     ],\n",
       "       [1624.5388 ,  771.4493 ,  868.531  , ...,    0.     ,    0.     ,\n",
       "           0.     ],\n",
       "       [1570.0508 ,  650.4193 ,  682.531  , ...,    0.     ,    0.     ,\n",
       "           0.     ]], dtype=float32)"
      ]
     },
     "execution_count": 12,
     "metadata": {},
     "output_type": "execute_result"
    }
   ],
   "source": [
    "rnp.root2array(\"../data_02/cal_28.root\",\"ctree\",\"e\")"
   ]
  },
  {
   "cell_type": "code",
   "execution_count": null,
   "metadata": {},
   "outputs": [],
   "source": []
  }
 ],
 "metadata": {
  "kernelspec": {
   "display_name": "Python 3",
   "language": "python",
   "name": "python3"
  },
  "language_info": {
   "codemirror_mode": {
    "name": "ipython",
    "version": 3
   },
   "file_extension": ".py",
   "mimetype": "text/x-python",
   "name": "python",
   "nbconvert_exporter": "python",
   "pygments_lexer": "ipython3",
   "version": "3.7.4"
  }
 },
 "nbformat": 4,
 "nbformat_minor": 2
}
