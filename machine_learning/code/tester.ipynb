{
 "cells": [
  {
   "cell_type": "code",
   "execution_count": 19,
   "metadata": {},
   "outputs": [
    {
     "name": "stdout",
     "output_type": "stream",
     "text": [
      "[('e0', '<f4'), ('e1', '<f4'), ('e2', '<f4'), ('e3', '<f4'), ('e4', '<f4'), ('e5', '<f4'), ('e6', '<f4'), ('x', '<f4'), ('m', '<f4'), ('dt', '<f4'), ('gmult', '<i4'), ('ge', '<f4'), ('gid', '<f4'), ('glabel', '<f4')]\n",
      "                e0           e1           e2           e3           e4  \\\n",
      "0      2161.321289  1341.359253  1948.864014  3502.680664  4110.185547   \n",
      "1      2077.941895  1270.559204  1880.864014  3348.500977  3958.805908   \n",
      "2      2086.162354  1304.159180  1764.864014  3390.321533  3851.026367   \n",
      "3      2086.162354  1304.159180  1764.864014  3390.321533  3851.026367   \n",
      "4      1845.418579  1110.959229  1367.864014  2956.377930  3213.282715   \n",
      "...            ...          ...          ...          ...          ...   \n",
      "33251  1654.471680   921.133484  1175.869019  2575.605225  2830.340820   \n",
      "33252  1625.559692   930.443481  1058.869019  2556.003174  2684.428711   \n",
      "33253  1747.879639   925.123474  1218.869019  2673.003174  2966.748535   \n",
      "33254  1599.983643   875.913452  1051.869019  2475.896973  2651.852539   \n",
      "33255  1246.367676   574.003479   684.869019  1820.371094  1931.236694   \n",
      "\n",
      "                e5           e6           x            m     dt  gmult  \\\n",
      "0      3290.223145  5451.544922   52.349609  2013.990967   70.0      5   \n",
      "1      3151.423340  5229.365234 -130.109863  1939.814941   70.0      1   \n",
      "2      3069.023193  5155.185547 -291.641357  1887.002930   70.0      4   \n",
      "3      3069.023193  5155.185547 -291.641357  1780.714600   68.0      4   \n",
      "4      2478.823242  4324.242188  100.558594  6663.062988  144.0      3   \n",
      "...            ...          ...         ...          ...    ...    ...   \n",
      "33251  2097.002441  3751.474121   13.395264  1634.804810   76.0      6   \n",
      "33252  1989.312500  3614.872070  336.037598  1550.526001   76.0      1   \n",
      "33253  2143.992432  3891.872070 -244.203613  1624.591553   74.0      4   \n",
      "33254  1927.782471  3527.766113   61.765625  1697.185669   80.0      5   \n",
      "33255  1258.872559  2505.240234  361.222656   151.408951   28.0      3   \n",
      "\n",
      "                ge  gid  glabel  \n",
      "0      2973.781250  0.0     2.0  \n",
      "1      1291.136475  1.0     1.0  \n",
      "2      1189.888550  0.0     2.0  \n",
      "3       291.673248  0.0     2.0  \n",
      "4       139.418900  0.0     4.0  \n",
      "...            ...  ...     ...  \n",
      "33251  1292.373779  1.0     1.0  \n",
      "33252   639.039978  0.0     2.0  \n",
      "33253  2042.572632  0.0     2.0  \n",
      "33254  1290.938354  1.0     1.0  \n",
      "33255  1295.966675  1.0     1.0  \n",
      "\n",
      "[33256 rows x 14 columns]\n",
      "5512.0\n"
     ]
    }
   ],
   "source": [
    "import ROOT\n",
    "from sys import exit\n",
    "import numpy as np\n",
    "from numpy.testing import assert_array_equal\n",
    "from nose.tools import (raises, assert_raises, assert_true,\n",
    "                        assert_equal, assert_almost_equal)\n",
    "import root_numpy as rnp\n",
    "import pandas as pd\n",
    "from pandas.plotting import scatter_matrix\n",
    "ROOT.ROOT.EnableImplicitMT()\n",
    "\n",
    "from sklearn import preprocessing\n",
    "\n",
    "import torch as torch\n",
    "import torch.nn as nn\n",
    "import torch.nn.functional as F\n",
    "from torch.autograd import Variable\n",
    "import torch.optim as optim\n",
    "\n",
    "#look at data loaded\n",
    "import matplotlib.pyplot as plt\n",
    "import plotly.express as px\n",
    "\n",
    "#read in key parameters from root file\n",
    "#data = rnp.root2array(\"../data_02/mlTree.root\",\"mltree\",branches=['x','e1','e2','e3','e12','e13',\n",
    "#                                                                   'e23','e123','recoilID'])\n",
    "\n",
    "data_in = rnp.root2array(\"../data/pyTreeAverageSkinK_train.root\",\"pytree\",\n",
    "                         branches=['e0','e1','e2','e3','e4','e5','e6','x','m','dt','gmult','ge','gid','glabel'])\n",
    "assert_equal(data_in.dtype.names, ('e0','e1','e2','e3','e4','e5','e6','x','m','dt','gmult','ge','gid','glabel'))\n",
    "print(data_in.dtype)\n",
    "num_data_columns=14.0\n",
    "#convert to pandas\n",
    "df = pd.DataFrame(data=data_in)\n",
    "print(df)\n",
    "x = df.values #returns a numpy array\n",
    "min_max_scaler = preprocessing.MinMaxScaler(feature_range=(0,1))\n",
    "x_scaled = min_max_scaler.fit_transform(x)\n",
    "res_df = pd.DataFrame(x_scaled)\n",
    "df_g1293 = df[(df['ge'] > 1285) & (df['ge'] < 1298)]\n",
    "print(df_g1293.size/num_data_columns)\n",
    "#data to torch tensor\n",
    "X = torch.from_numpy(res_df.values).float().to(torch.device('cpu'))\n",
    "#print(X)"
   ]
  },
  {
   "cell_type": "code",
   "execution_count": 20,
   "metadata": {},
   "outputs": [],
   "source": [
    "#Model D with AverageFatD_train data (mar31 9pm)\n",
    "class Net(nn.Module):\n",
    "    \n",
    "    def __init__(self):\n",
    "        super().__init__()\n",
    "        self.fc1 = nn.Linear(11, 40)\n",
    "        self.relu1 = nn.ReLU()\n",
    "        self.dout = nn.Dropout(0.2)\n",
    "        self.fc2 = nn.Linear(40, 20)\n",
    "        self.prelu = nn.PReLU(1)\n",
    "        self.out = nn.Linear(20, 1)\n",
    "        self.out_act = nn.Sigmoid()\n",
    "        \n",
    "    def forward(self, input_):\n",
    "        a1 = self.fc1(input_)\n",
    "        h1 = self.relu1(a1)\n",
    "        dout = self.dout(h1)\n",
    "        a2 = self.fc2(dout)\n",
    "        h2 = self.prelu(a2)\n",
    "        a3 = self.out(h2)\n",
    "        y = self.out_act(a3)\n",
    "        return y\n",
    "    \n",
    "net = Net()"
   ]
  },
  {
   "cell_type": "code",
   "execution_count": 21,
   "metadata": {},
   "outputs": [
    {
     "name": "stderr",
     "output_type": "stream",
     "text": [
      "/usr/local/lib/python3.7/site-packages/torch/serialization.py:559: UserWarning:\n",
      "\n",
      "Couldn't retrieve source code for container of type Net. It won't be checked for correctness upon loading.\n",
      "\n"
     ]
    },
    {
     "data": {
      "text/plain": [
       "Net(\n",
       "  (fc1): Linear(in_features=11, out_features=40, bias=True)\n",
       "  (relu1): ReLU()\n",
       "  (dout): Dropout(p=0.2, inplace=False)\n",
       "  (fc2): Linear(in_features=40, out_features=20, bias=True)\n",
       "  (prelu): PReLU(num_parameters=1)\n",
       "  (out): Linear(in_features=20, out_features=1, bias=True)\n",
       "  (out_act): Sigmoid()\n",
       ")"
      ]
     },
     "execution_count": 21,
     "metadata": {},
     "output_type": "execute_result"
    }
   ],
   "source": [
    "#print(net.parameters)\n",
    "#print(net.state_dict())\n",
    "save_path=\"./model_saves/model_K.pt\"\n",
    "net = torch.load(save_path)\n",
    "net.eval()"
   ]
  },
  {
   "cell_type": "code",
   "execution_count": 22,
   "metadata": {},
   "outputs": [
    {
     "name": "stdout",
     "output_type": "stream",
     "text": [
      "tensor(0.8674)\n",
      "tensor(0.0080)\n",
      "33256\n",
      "                e0           e1           e2           e3           e4  \\\n",
      "0      2161.321289  1341.359253  1948.864014  3502.680664  4110.185547   \n",
      "1      2077.941895  1270.559204  1880.864014  3348.500977  3958.805908   \n",
      "2      2086.162354  1304.159180  1764.864014  3390.321533  3851.026367   \n",
      "3      2086.162354  1304.159180  1764.864014  3390.321533  3851.026367   \n",
      "4      1845.418579  1110.959229  1367.864014  2956.377930  3213.282715   \n",
      "...            ...          ...          ...          ...          ...   \n",
      "33251  1654.471680   921.133484  1175.869019  2575.605225  2830.340820   \n",
      "33252  1625.559692   930.443481  1058.869019  2556.003174  2684.428711   \n",
      "33253  1747.879639   925.123474  1218.869019  2673.003174  2966.748535   \n",
      "33254  1599.983643   875.913452  1051.869019  2475.896973  2651.852539   \n",
      "33255  1246.367676   574.003479   684.869019  1820.371094  1931.236694   \n",
      "\n",
      "                e5           e6           x            m     dt  gmult  \\\n",
      "0      3290.223145  5451.544922   52.349609  2013.990967   70.0      5   \n",
      "1      3151.423340  5229.365234 -130.109863  1939.814941   70.0      1   \n",
      "2      3069.023193  5155.185547 -291.641357  1887.002930   70.0      4   \n",
      "3      3069.023193  5155.185547 -291.641357  1780.714600   68.0      4   \n",
      "4      2478.823242  4324.242188  100.558594  6663.062988  144.0      3   \n",
      "...            ...          ...         ...          ...    ...    ...   \n",
      "33251  2097.002441  3751.474121   13.395264  1634.804810   76.0      6   \n",
      "33252  1989.312500  3614.872070  336.037598  1550.526001   76.0      1   \n",
      "33253  2143.992432  3891.872070 -244.203613  1624.591553   74.0      4   \n",
      "33254  1927.782471  3527.766113   61.765625  1697.185669   80.0      5   \n",
      "33255  1258.872559  2505.240234  361.222656   151.408951   28.0      3   \n",
      "\n",
      "                ge  gid  glabel         A  \n",
      "0      2973.781250  0.0     2.0  0.734309  \n",
      "1      1291.136475  1.0     1.0  0.830804  \n",
      "2      1189.888550  0.0     2.0  0.365794  \n",
      "3       291.673248  0.0     2.0  0.130467  \n",
      "4       139.418900  0.0     4.0  0.026924  \n",
      "...            ...  ...     ...       ...  \n",
      "33251  1292.373779  1.0     1.0  0.817250  \n",
      "33252   639.039978  0.0     2.0  0.093418  \n",
      "33253  2042.572632  0.0     2.0  0.498085  \n",
      "33254  1290.938354  1.0     1.0  0.663180  \n",
      "33255  1295.966675  1.0     1.0  0.041223  \n",
      "\n",
      "[33256 rows x 15 columns]\n"
     ]
    }
   ],
   "source": [
    "with torch.no_grad():\n",
    "    result = net(X[0:6000000,0:11])\n",
    "    #result = torch.round(result)\n",
    "print(torch.max(result))\n",
    "print(torch.min(result))\n",
    "torch.histc(result)\n",
    "#print(result.data)\n",
    "print(len(result))\n",
    "df_F = pd.DataFrame(data=result.numpy())\n",
    "#print(df_F)\n",
    "df_F.columns = [\"A\"]\n",
    "result_df = pd.concat([df, df_F], axis=1)\n",
    "print(result_df)\n",
    "#fig = px.histogram(df_F,x=\"A\",nbins=100)\n",
    "#fig.update_xaxes(range=[0.0,1.0])\n",
    "#fig.show()"
   ]
  },
  {
   "cell_type": "code",
   "execution_count": 23,
   "metadata": {},
   "outputs": [
    {
     "name": "stdout",
     "output_type": "stream",
     "text": [
      "              precision    recall  f1-score   support\n",
      "\n",
      "         0.0       0.88      0.88      0.88     22741\n",
      "         1.0       0.74      0.73      0.74     10515\n",
      "\n",
      "    accuracy                           0.84     33256\n",
      "   macro avg       0.81      0.81      0.81     33256\n",
      "weighted avg       0.83      0.84      0.83     33256\n",
      "\n",
      "[[20068  2673]\n",
      " [ 2807  7708]]\n",
      "[[0.88245899 0.11754101]\n",
      " [0.26695197 0.73304803]]\n"
     ]
    },
    {
     "data": {
      "image/png": "[encoded data removed]",
      "text/plain": [
       "<Figure size 432x288 with 2 Axes>"
      ]
     },
     "metadata": {
      "needs_background": "light"
     },
     "output_type": "display_data"
    },
    {
     "data": {
      "image/png": "[encoded data removed]",
      "text/plain": [
       "<Figure size 432x288 with 1 Axes>"
      ]
     },
     "metadata": {
      "needs_background": "light"
     },
     "output_type": "display_data"
    }
   ],
   "source": [
    "from sklearn import metrics\n",
    "from sklearn.metrics import ConfusionMatrixDisplay\n",
    "#fpr, tpr, thresholds = metrics.roc_curve(y, scores, pos_label=2)\n",
    "#y = true labels so for me it is gid [0,1] so no pos_label needed\n",
    "#scores are output from model\n",
    "scores=result_df['A'].values\n",
    "y=result_df['gid'].values\n",
    "#print(y)\n",
    "#print(scores)\n",
    "fpr, tpr, thresholds = metrics.roc_curve(y, scores)\n",
    "roc_auc = metrics.auc(fpr, tpr)\n",
    "#metrics.roc_auc_score(y, scores)\n",
    "\n",
    "#metrics that need binary so using >0.5\n",
    "scores_round=np.round_(scores,0)\n",
    "print(metrics.classification_report(y, scores_round))\n",
    "confusion_matrix=metrics.confusion_matrix(y, scores_round)\n",
    "confusion_matrix_norm=metrics.confusion_matrix(y, scores_round,normalize='true')\n",
    "print(confusion_matrix)\n",
    "print(confusion_matrix_norm)\n",
    "display_labels=['0','1']\n",
    "disp = ConfusionMatrixDisplay(confusion_matrix_norm, display_labels)\n",
    "disp = disp.plot()\n",
    "plt.show()\n",
    "\n",
    "lw = 2\n",
    "plt.plot(fpr, tpr, color='darkorange',\n",
    "         lw=lw, label='ROC curve (area = %0.2f)' % roc_auc)\n",
    "plt.plot([0, 1], [0, 1], color='navy', lw=lw, linestyle='--')\n",
    "plt.xlim([0.0, 1.0])\n",
    "plt.ylim([0.0, 1.05])\n",
    "plt.xlabel('False Positive Rate')\n",
    "plt.ylabel('True Positive Rate')\n",
    "plt.title('Receiver operating characteristic example')\n",
    "plt.legend(loc=\"lower right\")\n",
    "plt.show()"
   ]
  },
  {
   "cell_type": "code",
   "execution_count": 24,
   "metadata": {},
   "outputs": [
    {
     "name": "stdout",
     "output_type": "stream",
     "text": [
      "tp_tot:10515 tn_tot:22741\n"
     ]
    },
    {
     "data": {
      "application/vnd.plotly.v1+json": {
       "config": {
        "plotlyServerURL": "https://plot.ly"
       },
       "data": [
        {
         "hoverlabel": {
          "namelength": 0
         },
         "hovertemplate": "fp=%{x}<br>tn=%{y}<br>mlr=%{marker.color}",
         "legendgroup": "",
         "marker": {
          "color": [
           0,
           0.02,
           0.04,
           0.06,
           0.08,
           0.1,
           0.12,
           0.14,
           0.16,
           0.18,
           0.2,
           0.22,
           0.24,
           0.26,
           0.28,
           0.3,
           0.32,
           0.34,
           0.36,
           0.38,
           0.4,
           0.42,
           0.44,
           0.46,
           0.48,
           0.5,
           0.52,
           0.54,
           0.56,
           0.58,
           0.6,
           0.62,
           0.64,
           0.66,
           0.68,
           0.7000000000000001,
           0.72,
           0.74,
           0.76,
           0.78,
           0.8,
           0.8200000000000001,
           0.84,
           0.86,
           0.88,
           0.9,
           0.92,
           0.9400000000000001,
           0.96,
           0.98
          ],
          "coloraxis": "coloraxis",
          "opacity": 1,
          "symbol": "circle"
         },
         "mode": "markers",
         "name": "",
         "showlegend": false,
         "type": "scatter",
         "x": [
          0,
          0.0007608178792201616,
          0.0042796005706134095,
          0.012077983832620067,
          0.03537803138373752,
          0.06885401806942464,
          0.10689491203043272,
          0.1299096528768426,
          0.145886828340466,
          0.15691868758915833,
          0.16300523062291963,
          0.16956728483119354,
          0.17565382786495481,
          0.18012363290537328,
          0.1873514027579648,
          0.19381835473133618,
          0.19961959106038993,
          0.20684736091298145,
          0.21331431288635283,
          0.21940085592011413,
          0.22643842130290062,
          0.23423680456490728,
          0.24165477888730386,
          0.2489776509747979,
          0.2578221588207323,
          0.2669519733713742,
          0.2770328102710414,
          0.2862577270565858,
          0.29938183547313363,
          0.31269614835948645,
          0.3274369947693771,
          0.34293865905848786,
          0.35863052781740373,
          0.3774607703281027,
          0.3973371374227294,
          0.4182596291012839,
          0.44241559676652403,
          0.4710413694721826,
          0.5100332857822159,
          0.559771754636234,
          0.6274845458868283,
          0.7226818830242511,
          0.8522111269614836,
          0.9948644793152639,
          1,
          1,
          1,
          1,
          1,
          1
         ],
         "xaxis": "x",
         "y": [
          0,
          0.014027527373466426,
          0.07554636999252451,
          0.15606173870981926,
          0.28323292731190364,
          0.441977045864298,
          0.5841431775207775,
          0.6679125808011961,
          0.7131612506046348,
          0.7409524647113144,
          0.7570907172068071,
          0.7710742711402313,
          0.7834308077920936,
          0.7965348929246735,
          0.8072204388549317,
          0.8172024097445143,
          0.8273163009542236,
          0.8347478123213579,
          0.8432346862495053,
          0.8501824897761752,
          0.8561189041818742,
          0.8614396904269821,
          0.8668044501121323,
          0.8727848379578734,
          0.8774460226023482,
          0.8824589947671606,
          0.8883514357328174,
          0.8934963282177565,
          0.898113539422189,
          0.9029945912668748,
          0.9081394837518139,
          0.9134602699969219,
          0.91759377336089,
          0.9221670111252803,
          0.9277076645705994,
          0.9332043445758762,
          0.9368981135394222,
          0.9423508201046568,
          0.9487269689107779,
          0.9556307989974056,
          0.9646453542060596,
          0.9765181830174574,
          0.9896222681500374,
          0.9998241062398311,
          1,
          1,
          1,
          1,
          1,
          1
         ],
         "yaxis": "y"
        }
       ],
       "layout": {
        "coloraxis": {
         "colorbar": {
          "title": {
           "text": "mlr"
          }
         },
         "colorscale": [
          [
           0,
           "#0d0887"
          ],
          [
           0.1111111111111111,
           "#46039f"
          ],
          [
           0.2222222222222222,
           "#7201a8"
          ],
          [
           0.3333333333333333,
           "#9c179e"
          ],
          [
           0.4444444444444444,
           "#bd3786"
          ],
          [
           0.5555555555555556,
           "#d8576b"
          ],
          [
           0.6666666666666666,
           "#ed7953"
          ],
          [
           0.7777777777777778,
           "#fb9f3a"
          ],
          [
           0.8888888888888888,
           "#fdca26"
          ],
          [
           1,
           "#f0f921"
          ]
         ]
        },
        "legend": {
         "tracegroupgap": 0
        },
        "margin": {
         "t": 60
        },
        "template": {
         "data": {
          "bar": [
           {
            "error_x": {
             "color": "#2a3f5f"
            },
            "error_y": {
             "color": "#2a3f5f"
            },
            "marker": {
             "line": {
              "color": "#E5ECF6",
              "width": 0.5
             }
            },
            "type": "bar"
           }
          ],
          "barpolar": [
           {
            "marker": {
             "line": {
              "color": "#E5ECF6",
              "width": 0.5
             }
            },
            "type": "barpolar"
           }
          ],
          "carpet": [
           {
            "aaxis": {
             "endlinecolor": "#2a3f5f",
             "gridcolor": "white",
             "linecolor": "white",
             "minorgridcolor": "white",
             "startlinecolor": "#2a3f5f"
            },
            "baxis": {
             "endlinecolor": "#2a3f5f",
             "gridcolor": "white",
             "linecolor": "white",
             "minorgridcolor": "white",
             "startlinecolor": "#2a3f5f"
            },
            "type": "carpet"
           }
          ],
          "choropleth": [
           {
            "colorbar": {
             "outlinewidth": 0,
             "ticks": ""
            },
            "type": "choropleth"
           }
          ],
          "contour": [
           {
            "colorbar": {
             "outlinewidth": 0,
             "ticks": ""
            },
            "colorscale": [
             [
              0,
              "#0d0887"
             ],
             [
              0.1111111111111111,
              "#46039f"
             ],
             [
              0.2222222222222222,
              "#7201a8"
             ],
             [
              0.3333333333333333,
              "#9c179e"
             ],
             [
              0.4444444444444444,
              "#bd3786"
             ],
             [
              0.5555555555555556,
              "#d8576b"
             ],
             [
              0.6666666666666666,
              "#ed7953"
             ],
             [
              0.7777777777777778,
              "#fb9f3a"
             ],
             [
              0.8888888888888888,
              "#fdca26"
             ],
             [
              1,
              "#f0f921"
             ]
            ],
            "type": "contour"
           }
          ],
          "contourcarpet": [
           {
            "colorbar": {
             "outlinewidth": 0,
             "ticks": ""
            },
            "type": "contourcarpet"
           }
          ],
          "heatmap": [
           {
            "colorbar": {
             "outlinewidth": 0,
             "ticks": ""
            },
            "colorscale": [
             [
              0,
              "#0d0887"
             ],
             [
              0.1111111111111111,
              "#46039f"
             ],
             [
              0.2222222222222222,
              "#7201a8"
             ],
             [
              0.3333333333333333,
              "#9c179e"
             ],
             [
              0.4444444444444444,
              "#bd3786"
             ],
             [
              0.5555555555555556,
              "#d8576b"
             ],
             [
              0.6666666666666666,
              "#ed7953"
             ],
             [
              0.7777777777777778,
              "#fb9f3a"
             ],
             [
              0.8888888888888888,
              "#fdca26"
             ],
             [
              1,
              "#f0f921"
             ]
            ],
            "type": "heatmap"
           }
          ],
          "heatmapgl": [
           {
            "colorbar": {
             "outlinewidth": 0,
             "ticks": ""
            },
            "colorscale": [
             [
              0,
              "#0d0887"
             ],
             [
              0.1111111111111111,
              "#46039f"
             ],
             [
              0.2222222222222222,
              "#7201a8"
             ],
             [
              0.3333333333333333,
              "#9c179e"
             ],
             [
              0.4444444444444444,
              "#bd3786"
             ],
             [
              0.5555555555555556,
              "#d8576b"
             ],
             [
              0.6666666666666666,
              "#ed7953"
             ],
             [
              0.7777777777777778,
              "#fb9f3a"
             ],
             [
              0.8888888888888888,
              "#fdca26"
             ],
             [
              1,
              "#f0f921"
             ]
            ],
            "type": "heatmapgl"
           }
          ],
          "histogram": [
           {
            "marker": {
             "colorbar": {
              "outlinewidth": 0,
              "ticks": ""
             }
            },
            "type": "histogram"
           }
          ],
          "histogram2d": [
           {
            "colorbar": {
             "outlinewidth": 0,
             "ticks": ""
            },
            "colorscale": [
             [
              0,
              "#0d0887"
             ],
             [
              0.1111111111111111,
              "#46039f"
             ],
             [
              0.2222222222222222,
              "#7201a8"
             ],
             [
              0.3333333333333333,
              "#9c179e"
             ],
             [
              0.4444444444444444,
              "#bd3786"
             ],
             [
              0.5555555555555556,
              "#d8576b"
             ],
             [
              0.6666666666666666,
              "#ed7953"
             ],
             [
              0.7777777777777778,
              "#fb9f3a"
             ],
             [
              0.8888888888888888,
              "#fdca26"
             ],
             [
              1,
              "#f0f921"
             ]
            ],
            "type": "histogram2d"
           }
          ],
          "histogram2dcontour": [
           {
            "colorbar": {
             "outlinewidth": 0,
             "ticks": ""
            },
            "colorscale": [
             [
              0,
              "#0d0887"
             ],
             [
              0.1111111111111111,
              "#46039f"
             ],
             [
              0.2222222222222222,
              "#7201a8"
             ],
             [
              0.3333333333333333,
              "#9c179e"
             ],
             [
              0.4444444444444444,
              "#bd3786"
             ],
             [
              0.5555555555555556,
              "#d8576b"
             ],
             [
              0.6666666666666666,
              "#ed7953"
             ],
             [
              0.7777777777777778,
              "#fb9f3a"
             ],
             [
              0.8888888888888888,
              "#fdca26"
             ],
             [
              1,
              "#f0f921"
             ]
            ],
            "type": "histogram2dcontour"
           }
          ],
          "mesh3d": [
           {
            "colorbar": {
             "outlinewidth": 0,
             "ticks": ""
            },
            "type": "mesh3d"
           }
          ],
          "parcoords": [
           {
            "line": {
             "colorbar": {
              "outlinewidth": 0,
              "ticks": ""
             }
            },
            "type": "parcoords"
           }
          ],
          "pie": [
           {
            "automargin": true,
            "type": "pie"
           }
          ],
          "scatter": [
           {
            "marker": {
             "colorbar": {
              "outlinewidth": 0,
              "ticks": ""
             }
            },
            "type": "scatter"
           }
          ],
          "scatter3d": [
           {
            "line": {
             "colorbar": {
              "outlinewidth": 0,
              "ticks": ""
             }
            },
            "marker": {
             "colorbar": {
              "outlinewidth": 0,
              "ticks": ""
             }
            },
            "type": "scatter3d"
           }
          ],
          "scattercarpet": [
           {
            "marker": {
             "colorbar": {
              "outlinewidth": 0,
              "ticks": ""
             }
            },
            "type": "scattercarpet"
           }
          ],
          "scattergeo": [
           {
            "marker": {
             "colorbar": {
              "outlinewidth": 0,
              "ticks": ""
             }
            },
            "type": "scattergeo"
           }
          ],
          "scattergl": [
           {
            "marker": {
             "colorbar": {
              "outlinewidth": 0,
              "ticks": ""
             }
            },
            "type": "scattergl"
           }
          ],
          "scattermapbox": [
           {
            "marker": {
             "colorbar": {
              "outlinewidth": 0,
              "ticks": ""
             }
            },
            "type": "scattermapbox"
           }
          ],
          "scatterpolar": [
           {
            "marker": {
             "colorbar": {
              "outlinewidth": 0,
              "ticks": ""
             }
            },
            "type": "scatterpolar"
           }
          ],
          "scatterpolargl": [
           {
            "marker": {
             "colorbar": {
              "outlinewidth": 0,
              "ticks": ""
             }
            },
            "type": "scatterpolargl"
           }
          ],
          "scatterternary": [
           {
            "marker": {
             "colorbar": {
              "outlinewidth": 0,
              "ticks": ""
             }
            },
            "type": "scatterternary"
           }
          ],
          "surface": [
           {
            "colorbar": {
             "outlinewidth": 0,
             "ticks": ""
            },
            "colorscale": [
             [
              0,
              "#0d0887"
             ],
             [
              0.1111111111111111,
              "#46039f"
             ],
             [
              0.2222222222222222,
              "#7201a8"
             ],
             [
              0.3333333333333333,
              "#9c179e"
             ],
             [
              0.4444444444444444,
              "#bd3786"
             ],
             [
              0.5555555555555556,
              "#d8576b"
             ],
             [
              0.6666666666666666,
              "#ed7953"
             ],
             [
              0.7777777777777778,
              "#fb9f3a"
             ],
             [
              0.8888888888888888,
              "#fdca26"
             ],
             [
              1,
              "#f0f921"
             ]
            ],
            "type": "surface"
           }
          ],
          "table": [
           {
            "cells": {
             "fill": {
              "color": "#EBF0F8"
             },
             "line": {
              "color": "white"
             }
            },
            "header": {
             "fill": {
              "color": "#C8D4E3"
             },
             "line": {
              "color": "white"
             }
            },
            "type": "table"
           }
          ]
         },
         "layout": {
          "annotationdefaults": {
           "arrowcolor": "#2a3f5f",
           "arrowhead": 0,
           "arrowwidth": 1
          },
          "coloraxis": {
           "colorbar": {
            "outlinewidth": 0,
            "ticks": ""
           }
          },
          "colorscale": {
           "diverging": [
            [
             0,
             "#8e0152"
            ],
            [
             0.1,
             "#c51b7d"
            ],
            [
             0.2,
             "#de77ae"
            ],
            [
             0.3,
             "#f1b6da"
            ],
            [
             0.4,
             "#fde0ef"
            ],
            [
             0.5,
             "#f7f7f7"
            ],
            [
             0.6,
             "#e6f5d0"
            ],
            [
             0.7,
             "#b8e186"
            ],
            [
             0.8,
             "#7fbc41"
            ],
            [
             0.9,
             "#4d9221"
            ],
            [
             1,
             "#276419"
            ]
           ],
           "sequential": [
            [
             0,
             "#0d0887"
            ],
            [
             0.1111111111111111,
             "#46039f"
            ],
            [
             0.2222222222222222,
             "#7201a8"
            ],
            [
             0.3333333333333333,
             "#9c179e"
            ],
            [
             0.4444444444444444,
             "#bd3786"
            ],
            [
             0.5555555555555556,
             "#d8576b"
            ],
            [
             0.6666666666666666,
             "#ed7953"
            ],
            [
             0.7777777777777778,
             "#fb9f3a"
            ],
            [
             0.8888888888888888,
             "#fdca26"
            ],
            [
             1,
             "#f0f921"
            ]
           ],
           "sequentialminus": [
            [
             0,
             "#0d0887"
            ],
            [
             0.1111111111111111,
             "#46039f"
            ],
            [
             0.2222222222222222,
             "#7201a8"
            ],
            [
             0.3333333333333333,
             "#9c179e"
            ],
            [
             0.4444444444444444,
             "#bd3786"
            ],
            [
             0.5555555555555556,
             "#d8576b"
            ],
            [
             0.6666666666666666,
             "#ed7953"
            ],
            [
             0.7777777777777778,
             "#fb9f3a"
            ],
            [
             0.8888888888888888,
             "#fdca26"
            ],
            [
             1,
             "#f0f921"
            ]
           ]
          },
          "colorway": [
           "#636efa",
           "#EF553B",
           "#00cc96",
           "#ab63fa",
           "#FFA15A",
           "#19d3f3",
           "#FF6692",
           "#B6E880",
           "#FF97FF",
           "#FECB52"
          ],
          "font": {
           "color": "#2a3f5f"
          },
          "geo": {
           "bgcolor": "white",
           "lakecolor": "white",
           "landcolor": "#E5ECF6",
           "showlakes": true,
           "showland": true,
           "subunitcolor": "white"
          },
          "hoverlabel": {
           "align": "left"
          },
          "hovermode": "closest",
          "mapbox": {
           "style": "light"
          },
          "paper_bgcolor": "white",
          "plot_bgcolor": "#E5ECF6",
          "polar": {
           "angularaxis": {
            "gridcolor": "white",
            "linecolor": "white",
            "ticks": ""
           },
           "bgcolor": "#E5ECF6",
           "radialaxis": {
            "gridcolor": "white",
            "linecolor": "white",
            "ticks": ""
           }
          },
          "scene": {
           "xaxis": {
            "backgroundcolor": "#E5ECF6",
            "gridcolor": "white",
            "gridwidth": 2,
            "linecolor": "white",
            "showbackground": true,
            "ticks": "",
            "zerolinecolor": "white"
           },
           "yaxis": {
            "backgroundcolor": "#E5ECF6",
            "gridcolor": "white",
            "gridwidth": 2,
            "linecolor": "white",
            "showbackground": true,
            "ticks": "",
            "zerolinecolor": "white"
           },
           "zaxis": {
            "backgroundcolor": "#E5ECF6",
            "gridcolor": "white",
            "gridwidth": 2,
            "linecolor": "white",
            "showbackground": true,
            "ticks": "",
            "zerolinecolor": "white"
           }
          },
          "shapedefaults": {
           "line": {
            "color": "#2a3f5f"
           }
          },
          "ternary": {
           "aaxis": {
            "gridcolor": "white",
            "linecolor": "white",
            "ticks": ""
           },
           "baxis": {
            "gridcolor": "white",
            "linecolor": "white",
            "ticks": ""
           },
           "bgcolor": "#E5ECF6",
           "caxis": {
            "gridcolor": "white",
            "linecolor": "white",
            "ticks": ""
           }
          },
          "title": {
           "x": 0.05
          },
          "xaxis": {
           "automargin": true,
           "gridcolor": "white",
           "linecolor": "white",
           "ticks": "",
           "title": {
            "standoff": 15
           },
           "zerolinecolor": "white",
           "zerolinewidth": 2
          },
          "yaxis": {
           "automargin": true,
           "gridcolor": "white",
           "linecolor": "white",
           "ticks": "",
           "title": {
            "standoff": 15
           },
           "zerolinecolor": "white",
           "zerolinewidth": 2
          }
         }
        },
        "xaxis": {
         "anchor": "y",
         "domain": [
          0,
          1
         ],
         "title": {
          "text": "fp"
         }
        },
        "yaxis": {
         "anchor": "x",
         "domain": [
          0,
          1
         ],
         "title": {
          "text": "tn"
         }
        }
       }
      },
      "text/html": [
       "<div>\n",
       "        \n",
       "        \n",
       "            <div id=\"2d0eb5d5-a310-47ce-a276-793cca8eef64\" class=\"plotly-graph-div\" style=\"height:525px; width:100%;\"></div>\n",
       "            <script type=\"text/javascript\">\n",
       "                require([\"plotly\"], function(Plotly) {\n",
       "                    window.PLOTLYENV=window.PLOTLYENV || {};\n",
       "                    \n",
       "                if (document.getElementById(\"2d0eb5d5-a310-47ce-a276-793cca8eef64\")) {\n",
       "                    Plotly.newPlot(\n",
       "                        '2d0eb5d5-a310-47ce-a276-793cca8eef64',\n",
       "                        [{\"hoverlabel\": {\"namelength\": 0}, \"hovertemplate\": \"fp=%{x}<br>tn=%{y}<br>mlr=%{marker.color}\", \"legendgroup\": \"\", \"marker\": {\"color\": [0.0, 0.02, 0.04, 0.06, 0.08, 0.1, 0.12, 0.14, 0.16, 0.18, 0.2, 0.22, 0.24, 0.26, 0.28, 0.3, 0.32, 0.34, 0.36, 0.38, 0.4, 0.42, 0.44, 0.46, 0.48, 0.5, 0.52, 0.54, 0.56, 0.58, 0.6, 0.62, 0.64, 0.66, 0.68, 0.7000000000000001, 0.72, 0.74, 0.76, 0.78, 0.8, 0.8200000000000001, 0.84, 0.86, 0.88, 0.9, 0.92, 0.9400000000000001, 0.96, 0.98], \"coloraxis\": \"coloraxis\", \"opacity\": 1, \"symbol\": \"circle\"}, \"mode\": \"markers\", \"name\": \"\", \"showlegend\": false, \"type\": \"scatter\", \"x\": [0.0, 0.0007608178792201616, 0.0042796005706134095, 0.012077983832620067, 0.03537803138373752, 0.06885401806942464, 0.10689491203043272, 0.1299096528768426, 0.145886828340466, 0.15691868758915833, 0.16300523062291963, 0.16956728483119354, 0.17565382786495481, 0.18012363290537328, 0.1873514027579648, 0.19381835473133618, 0.19961959106038993, 0.20684736091298145, 0.21331431288635283, 0.21940085592011413, 0.22643842130290062, 0.23423680456490728, 0.24165477888730386, 0.2489776509747979, 0.2578221588207323, 0.2669519733713742, 0.2770328102710414, 0.2862577270565858, 0.29938183547313363, 0.31269614835948645, 0.3274369947693771, 0.34293865905848786, 0.35863052781740373, 0.3774607703281027, 0.3973371374227294, 0.4182596291012839, 0.44241559676652403, 0.4710413694721826, 0.5100332857822159, 0.559771754636234, 0.6274845458868283, 0.7226818830242511, 0.8522111269614836, 0.9948644793152639, 1.0, 1.0, 1.0, 1.0, 1.0, 1.0], \"xaxis\": \"x\", \"y\": [0.0, 0.014027527373466426, 0.07554636999252451, 0.15606173870981926, 0.28323292731190364, 0.441977045864298, 0.5841431775207775, 0.6679125808011961, 0.7131612506046348, 0.7409524647113144, 0.7570907172068071, 0.7710742711402313, 0.7834308077920936, 0.7965348929246735, 0.8072204388549317, 0.8172024097445143, 0.8273163009542236, 0.8347478123213579, 0.8432346862495053, 0.8501824897761752, 0.8561189041818742, 0.8614396904269821, 0.8668044501121323, 0.8727848379578734, 0.8774460226023482, 0.8824589947671606, 0.8883514357328174, 0.8934963282177565, 0.898113539422189, 0.9029945912668748, 0.9081394837518139, 0.9134602699969219, 0.91759377336089, 0.9221670111252803, 0.9277076645705994, 0.9332043445758762, 0.9368981135394222, 0.9423508201046568, 0.9487269689107779, 0.9556307989974056, 0.9646453542060596, 0.9765181830174574, 0.9896222681500374, 0.9998241062398311, 1.0, 1.0, 1.0, 1.0, 1.0, 1.0], \"yaxis\": \"y\"}],\n",
       "                        {\"coloraxis\": {\"colorbar\": {\"title\": {\"text\": \"mlr\"}}, \"colorscale\": [[0.0, \"#0d0887\"], [0.1111111111111111, \"#46039f\"], [0.2222222222222222, \"#7201a8\"], [0.3333333333333333, \"#9c179e\"], [0.4444444444444444, \"#bd3786\"], [0.5555555555555556, \"#d8576b\"], [0.6666666666666666, \"#ed7953\"], [0.7777777777777778, \"#fb9f3a\"], [0.8888888888888888, \"#fdca26\"], [1.0, \"#f0f921\"]]}, \"legend\": {\"tracegroupgap\": 0}, \"margin\": {\"t\": 60}, \"template\": {\"data\": {\"bar\": [{\"error_x\": {\"color\": \"#2a3f5f\"}, \"error_y\": {\"color\": \"#2a3f5f\"}, \"marker\": {\"line\": {\"color\": \"#E5ECF6\", \"width\": 0.5}}, \"type\": \"bar\"}], \"barpolar\": [{\"marker\": {\"line\": {\"color\": \"#E5ECF6\", \"width\": 0.5}}, \"type\": \"barpolar\"}], \"carpet\": [{\"aaxis\": {\"endlinecolor\": \"#2a3f5f\", \"gridcolor\": \"white\", \"linecolor\": \"white\", \"minorgridcolor\": \"white\", \"startlinecolor\": \"#2a3f5f\"}, \"baxis\": {\"endlinecolor\": \"#2a3f5f\", \"gridcolor\": \"white\", \"linecolor\": \"white\", \"minorgridcolor\": \"white\", \"startlinecolor\": \"#2a3f5f\"}, \"type\": \"carpet\"}], \"choropleth\": [{\"colorbar\": {\"outlinewidth\": 0, \"ticks\": \"\"}, \"type\": \"choropleth\"}], \"contour\": [{\"colorbar\": {\"outlinewidth\": 0, \"ticks\": \"\"}, \"colorscale\": [[0.0, \"#0d0887\"], [0.1111111111111111, \"#46039f\"], [0.2222222222222222, \"#7201a8\"], [0.3333333333333333, \"#9c179e\"], [0.4444444444444444, \"#bd3786\"], [0.5555555555555556, \"#d8576b\"], [0.6666666666666666, \"#ed7953\"], [0.7777777777777778, \"#fb9f3a\"], [0.8888888888888888, \"#fdca26\"], [1.0, \"#f0f921\"]], \"type\": \"contour\"}], \"contourcarpet\": [{\"colorbar\": {\"outlinewidth\": 0, \"ticks\": \"\"}, \"type\": \"contourcarpet\"}], \"heatmap\": [{\"colorbar\": {\"outlinewidth\": 0, \"ticks\": \"\"}, \"colorscale\": [[0.0, \"#0d0887\"], [0.1111111111111111, \"#46039f\"], [0.2222222222222222, \"#7201a8\"], [0.3333333333333333, \"#9c179e\"], [0.4444444444444444, \"#bd3786\"], [0.5555555555555556, \"#d8576b\"], [0.6666666666666666, \"#ed7953\"], [0.7777777777777778, \"#fb9f3a\"], [0.8888888888888888, \"#fdca26\"], [1.0, \"#f0f921\"]], \"type\": \"heatmap\"}], \"heatmapgl\": [{\"colorbar\": {\"outlinewidth\": 0, \"ticks\": \"\"}, \"colorscale\": [[0.0, \"#0d0887\"], [0.1111111111111111, \"#46039f\"], [0.2222222222222222, \"#7201a8\"], [0.3333333333333333, \"#9c179e\"], [0.4444444444444444, \"#bd3786\"], [0.5555555555555556, \"#d8576b\"], [0.6666666666666666, \"#ed7953\"], [0.7777777777777778, \"#fb9f3a\"], [0.8888888888888888, \"#fdca26\"], [1.0, \"#f0f921\"]], \"type\": \"heatmapgl\"}], \"histogram\": [{\"marker\": {\"colorbar\": {\"outlinewidth\": 0, \"ticks\": \"\"}}, \"type\": \"histogram\"}], \"histogram2d\": [{\"colorbar\": {\"outlinewidth\": 0, \"ticks\": \"\"}, \"colorscale\": [[0.0, \"#0d0887\"], [0.1111111111111111, \"#46039f\"], [0.2222222222222222, \"#7201a8\"], [0.3333333333333333, \"#9c179e\"], [0.4444444444444444, \"#bd3786\"], [0.5555555555555556, \"#d8576b\"], [0.6666666666666666, \"#ed7953\"], [0.7777777777777778, \"#fb9f3a\"], [0.8888888888888888, \"#fdca26\"], [1.0, \"#f0f921\"]], \"type\": \"histogram2d\"}], \"histogram2dcontour\": [{\"colorbar\": {\"outlinewidth\": 0, \"ticks\": \"\"}, \"colorscale\": [[0.0, \"#0d0887\"], [0.1111111111111111, \"#46039f\"], [0.2222222222222222, \"#7201a8\"], [0.3333333333333333, \"#9c179e\"], [0.4444444444444444, \"#bd3786\"], [0.5555555555555556, \"#d8576b\"], [0.6666666666666666, \"#ed7953\"], [0.7777777777777778, \"#fb9f3a\"], [0.8888888888888888, \"#fdca26\"], [1.0, \"#f0f921\"]], \"type\": \"histogram2dcontour\"}], \"mesh3d\": [{\"colorbar\": {\"outlinewidth\": 0, \"ticks\": \"\"}, \"type\": \"mesh3d\"}], \"parcoords\": [{\"line\": {\"colorbar\": {\"outlinewidth\": 0, \"ticks\": \"\"}}, \"type\": \"parcoords\"}], \"pie\": [{\"automargin\": true, \"type\": \"pie\"}], \"scatter\": [{\"marker\": {\"colorbar\": {\"outlinewidth\": 0, \"ticks\": \"\"}}, \"type\": \"scatter\"}], \"scatter3d\": [{\"line\": {\"colorbar\": {\"outlinewidth\": 0, \"ticks\": \"\"}}, \"marker\": {\"colorbar\": {\"outlinewidth\": 0, \"ticks\": \"\"}}, \"type\": \"scatter3d\"}], \"scattercarpet\": [{\"marker\": {\"colorbar\": {\"outlinewidth\": 0, \"ticks\": \"\"}}, \"type\": \"scattercarpet\"}], \"scattergeo\": [{\"marker\": {\"colorbar\": {\"outlinewidth\": 0, \"ticks\": \"\"}}, \"type\": \"scattergeo\"}], \"scattergl\": [{\"marker\": {\"colorbar\": {\"outlinewidth\": 0, \"ticks\": \"\"}}, \"type\": \"scattergl\"}], \"scattermapbox\": [{\"marker\": {\"colorbar\": {\"outlinewidth\": 0, \"ticks\": \"\"}}, \"type\": \"scattermapbox\"}], \"scatterpolar\": [{\"marker\": {\"colorbar\": {\"outlinewidth\": 0, \"ticks\": \"\"}}, \"type\": \"scatterpolar\"}], \"scatterpolargl\": [{\"marker\": {\"colorbar\": {\"outlinewidth\": 0, \"ticks\": \"\"}}, \"type\": \"scatterpolargl\"}], \"scatterternary\": [{\"marker\": {\"colorbar\": {\"outlinewidth\": 0, \"ticks\": \"\"}}, \"type\": \"scatterternary\"}], \"surface\": [{\"colorbar\": {\"outlinewidth\": 0, \"ticks\": \"\"}, \"colorscale\": [[0.0, \"#0d0887\"], [0.1111111111111111, \"#46039f\"], [0.2222222222222222, \"#7201a8\"], [0.3333333333333333, \"#9c179e\"], [0.4444444444444444, \"#bd3786\"], [0.5555555555555556, \"#d8576b\"], [0.6666666666666666, \"#ed7953\"], [0.7777777777777778, \"#fb9f3a\"], [0.8888888888888888, \"#fdca26\"], [1.0, \"#f0f921\"]], \"type\": \"surface\"}], \"table\": [{\"cells\": {\"fill\": {\"color\": \"#EBF0F8\"}, \"line\": {\"color\": \"white\"}}, \"header\": {\"fill\": {\"color\": \"#C8D4E3\"}, \"line\": {\"color\": \"white\"}}, \"type\": \"table\"}]}, \"layout\": {\"annotationdefaults\": {\"arrowcolor\": \"#2a3f5f\", \"arrowhead\": 0, \"arrowwidth\": 1}, \"coloraxis\": {\"colorbar\": {\"outlinewidth\": 0, \"ticks\": \"\"}}, \"colorscale\": {\"diverging\": [[0, \"#8e0152\"], [0.1, \"#c51b7d\"], [0.2, \"#de77ae\"], [0.3, \"#f1b6da\"], [0.4, \"#fde0ef\"], [0.5, \"#f7f7f7\"], [0.6, \"#e6f5d0\"], [0.7, \"#b8e186\"], [0.8, \"#7fbc41\"], [0.9, \"#4d9221\"], [1, \"#276419\"]], \"sequential\": [[0.0, \"#0d0887\"], [0.1111111111111111, \"#46039f\"], [0.2222222222222222, \"#7201a8\"], [0.3333333333333333, \"#9c179e\"], [0.4444444444444444, \"#bd3786\"], [0.5555555555555556, \"#d8576b\"], [0.6666666666666666, \"#ed7953\"], [0.7777777777777778, \"#fb9f3a\"], [0.8888888888888888, \"#fdca26\"], [1.0, \"#f0f921\"]], \"sequentialminus\": [[0.0, \"#0d0887\"], [0.1111111111111111, \"#46039f\"], [0.2222222222222222, \"#7201a8\"], [0.3333333333333333, \"#9c179e\"], [0.4444444444444444, \"#bd3786\"], [0.5555555555555556, \"#d8576b\"], [0.6666666666666666, \"#ed7953\"], [0.7777777777777778, \"#fb9f3a\"], [0.8888888888888888, \"#fdca26\"], [1.0, \"#f0f921\"]]}, \"colorway\": [\"#636efa\", \"#EF553B\", \"#00cc96\", \"#ab63fa\", \"#FFA15A\", \"#19d3f3\", \"#FF6692\", \"#B6E880\", \"#FF97FF\", \"#FECB52\"], \"font\": {\"color\": \"#2a3f5f\"}, \"geo\": {\"bgcolor\": \"white\", \"lakecolor\": \"white\", \"landcolor\": \"#E5ECF6\", \"showlakes\": true, \"showland\": true, \"subunitcolor\": \"white\"}, \"hoverlabel\": {\"align\": \"left\"}, \"hovermode\": \"closest\", \"mapbox\": {\"style\": \"light\"}, \"paper_bgcolor\": \"white\", \"plot_bgcolor\": \"#E5ECF6\", \"polar\": {\"angularaxis\": {\"gridcolor\": \"white\", \"linecolor\": \"white\", \"ticks\": \"\"}, \"bgcolor\": \"#E5ECF6\", \"radialaxis\": {\"gridcolor\": \"white\", \"linecolor\": \"white\", \"ticks\": \"\"}}, \"scene\": {\"xaxis\": {\"backgroundcolor\": \"#E5ECF6\", \"gridcolor\": \"white\", \"gridwidth\": 2, \"linecolor\": \"white\", \"showbackground\": true, \"ticks\": \"\", \"zerolinecolor\": \"white\"}, \"yaxis\": {\"backgroundcolor\": \"#E5ECF6\", \"gridcolor\": \"white\", \"gridwidth\": 2, \"linecolor\": \"white\", \"showbackground\": true, \"ticks\": \"\", \"zerolinecolor\": \"white\"}, \"zaxis\": {\"backgroundcolor\": \"#E5ECF6\", \"gridcolor\": \"white\", \"gridwidth\": 2, \"linecolor\": \"white\", \"showbackground\": true, \"ticks\": \"\", \"zerolinecolor\": \"white\"}}, \"shapedefaults\": {\"line\": {\"color\": \"#2a3f5f\"}}, \"ternary\": {\"aaxis\": {\"gridcolor\": \"white\", \"linecolor\": \"white\", \"ticks\": \"\"}, \"baxis\": {\"gridcolor\": \"white\", \"linecolor\": \"white\", \"ticks\": \"\"}, \"bgcolor\": \"#E5ECF6\", \"caxis\": {\"gridcolor\": \"white\", \"linecolor\": \"white\", \"ticks\": \"\"}}, \"title\": {\"x\": 0.05}, \"xaxis\": {\"automargin\": true, \"gridcolor\": \"white\", \"linecolor\": \"white\", \"ticks\": \"\", \"title\": {\"standoff\": 15}, \"zerolinecolor\": \"white\", \"zerolinewidth\": 2}, \"yaxis\": {\"automargin\": true, \"gridcolor\": \"white\", \"linecolor\": \"white\", \"ticks\": \"\", \"title\": {\"standoff\": 15}, \"zerolinecolor\": \"white\", \"zerolinewidth\": 2}}}, \"xaxis\": {\"anchor\": \"y\", \"domain\": [0.0, 1.0], \"title\": {\"text\": \"fp\"}}, \"yaxis\": {\"anchor\": \"x\", \"domain\": [0.0, 1.0], \"title\": {\"text\": \"tn\"}}},\n",
       "                        {\"responsive\": true}\n",
       "                    ).then(function(){\n",
       "                            \n",
       "var gd = document.getElementById('2d0eb5d5-a310-47ce-a276-793cca8eef64');\n",
       "var x = new MutationObserver(function (mutations, observer) {{\n",
       "        var display = window.getComputedStyle(gd).display;\n",
       "        if (!display || display === 'none') {{\n",
       "            console.log([gd, 'removed!']);\n",
       "            Plotly.purge(gd);\n",
       "            observer.disconnect();\n",
       "        }}\n",
       "}});\n",
       "\n",
       "// Listen for the removal of the full notebook cells\n",
       "var notebookContainer = gd.closest('#notebook-container');\n",
       "if (notebookContainer) {{\n",
       "    x.observe(notebookContainer, {childList: true});\n",
       "}}\n",
       "\n",
       "// Listen for the clearing of the current output cell\n",
       "var outputEl = gd.closest('.output');\n",
       "if (outputEl) {{\n",
       "    x.observe(outputEl, {childList: true});\n",
       "}}\n",
       "\n",
       "                        })\n",
       "                };\n",
       "                });\n",
       "            </script>\n",
       "        </div>"
      ]
     },
     "metadata": {},
     "output_type": "display_data"
    }
   ],
   "source": [
    "mlr = []\n",
    "tp = []\n",
    "fp = []\n",
    "tn = []\n",
    "fn = []\n",
    "tp_tot = len(result_df[(result_df['gid']==1)])\n",
    "tn_tot = len(result_df[(result_df['gid']==0)])\n",
    "print('tp_tot:%d tn_tot:%d' % (tp_tot,tn_tot))\n",
    "for cut_val in range(50):\n",
    "    cut_low=cut_val*0.02\n",
    "    mlr.append(cut_low)\n",
    "    tp.append(len(result_df[(result_df['A'] > cut_low) & (result_df['gid']==1)])/tp_tot)\n",
    "    fn.append(len(result_df[(result_df['A'] > cut_low) & (result_df['gid']==0)])/tn_tot)\n",
    "    tn.append(len(result_df[(result_df['A'] < cut_low) & (result_df['gid']==0)])/tn_tot)\n",
    "    fp.append(len(result_df[(result_df['A'] < cut_low) & (result_df['gid']==1)])/tp_tot)\n",
    "\n",
    "df_cm=pd.DataFrame(mlr, columns=['mlr'])\n",
    "df_tp=pd.DataFrame(tp, columns=['tp'])\n",
    "df_fp=pd.DataFrame(fp, columns=['fp'])\n",
    "df_tn=pd.DataFrame(tn, columns=['tn'])\n",
    "df_fn=pd.DataFrame(fn, columns=['fn'])\n",
    "\n",
    "#df_cm=pd.concat([df_cm, df_mlr], axis=1)\n",
    "df_cm=pd.concat([df_cm, df_tp], axis=1)\n",
    "df_cm=pd.concat([df_cm, df_fp], axis=1)\n",
    "df_cm=pd.concat([df_cm, df_tn], axis=1)\n",
    "df_cm=pd.concat([df_cm, df_fn], axis=1)\n",
    "#print(df_cm)\n",
    "\n",
    "fig = px.scatter(df_cm, x=\"fp\",y=\"tn\",color=\"mlr\",opacity=1)\n",
    "#fig = px.line(df_cm, x=\"fp\",y=\"tn\")\n",
    "fig.show()\n"
   ]
  },
  {
   "cell_type": "code",
   "execution_count": 25,
   "metadata": {},
   "outputs": [],
   "source": [
    "\n",
    "#result_df.to_csv(\"output/pyTreeAverageSkinK_tester.csv\",sep=\" \",header=False)"
   ]
  },
  {
   "cell_type": "code",
   "execution_count": 28,
   "metadata": {},
   "outputs": [
    {
     "name": "stderr",
     "output_type": "stream",
     "text": [
      "/usr/local/lib/python3.7/site-packages/ipykernel_launcher.py:167: RuntimeWarning:\n",
      "\n",
      "invalid value encountered in long_scalars\n",
      "\n",
      "/usr/local/lib/python3.7/site-packages/ipykernel_launcher.py:168: RuntimeWarning:\n",
      "\n",
      "invalid value encountered in long_scalars\n",
      "\n",
      "/usr/local/lib/python3.7/site-packages/ipykernel_launcher.py:169: RuntimeWarning:\n",
      "\n",
      "invalid value encountered in long_scalars\n",
      "\n"
     ]
    },
    {
     "name": "stdout",
     "output_type": "stream",
     "text": [
      "    ml_return  g1293t  g1190t  g3142t\n",
      "0        0.00  5512.0   794.0   454.0\n",
      "1        0.02  5508.0   792.0   453.0\n",
      "2        0.04  5496.0   785.0   447.0\n",
      "3        0.06  5469.0   769.0   438.0\n",
      "4        0.08  5381.0   724.0   419.0\n",
      "5        0.10  5253.0   662.0   398.0\n",
      "6        0.12  5076.0   574.0   375.0\n",
      "7        0.14  4947.0   512.0   354.0\n",
      "8        0.16  4879.0   480.0   335.0\n",
      "9        0.18  4834.0   449.0   327.0\n",
      "10       0.20  4816.0   428.0   318.0\n",
      "11       0.22  4794.0   412.0   310.0\n",
      "12       0.24  4765.0   396.0   299.0\n",
      "13       0.26  4749.0   381.0   288.0\n",
      "14       0.28  4713.0   367.0   277.0\n",
      "15       0.30  4685.0   347.0   275.0\n",
      "16       0.32  4655.0   330.0   258.0\n",
      "17       0.34  4622.0   319.0   251.0\n",
      "18       0.36  4601.0   303.0   240.0\n",
      "19       0.38  4569.0   293.0   229.0\n",
      "20       0.40  4538.0   281.0   221.0\n",
      "21       0.42  4496.0   272.0   212.0\n",
      "22       0.44  4456.0   266.0   206.0\n",
      "23       0.46  4414.0   256.0   195.0\n",
      "24       0.48  4370.0   250.0   190.0\n",
      "25       0.50  4312.0   239.0   186.0\n",
      "26       0.52  4261.0   232.0   178.0\n",
      "27       0.54  4215.0   227.0   172.0\n",
      "28       0.56  4139.0   214.0   169.0\n",
      "29       0.58  4067.0   207.0   163.0\n",
      "30       0.60  3984.0   200.0   153.0\n",
      "31       0.62  3908.0   191.0   141.0\n",
      "32       0.64  3819.0   182.0   133.0\n",
      "33       0.66  3716.0   170.0   123.0\n",
      "34       0.68  3611.0   160.0   113.0\n",
      "35       0.70  3485.0   150.0   103.0\n",
      "36       0.72  3340.0   143.0    97.0\n",
      "37       0.74  3184.0   135.0    89.0\n",
      "38       0.76  2958.0   118.0    79.0\n",
      "39       0.78  2644.0   105.0    66.0\n",
      "40       0.80  2247.0    83.0    49.0\n",
      "41       0.82  1699.0    58.0    28.0\n",
      "42       0.84   909.0    21.0    16.0\n",
      "43       0.86    40.0     0.0     0.0\n",
      "44       0.88     0.0     0.0     0.0\n",
      "45       0.90     0.0     0.0     0.0\n",
      "46       0.92     0.0     0.0     0.0\n",
      "47       0.94     0.0     0.0     0.0\n",
      "48       0.96     0.0     0.0     0.0\n",
      "49       0.98     0.0     0.0     0.0\n",
      "    1190/1293   639/383  3142/1535\n",
      "0    0.144049  1.270366   0.164731\n",
      "1    0.143791  1.268005   0.164428\n",
      "2    0.142831  1.255952   0.163020\n",
      "3    0.140611  1.243605   0.160734\n",
      "4    0.134547  1.197644   0.156343\n",
      "5    0.126023  1.131994   0.152549\n",
      "6    0.113081  1.053312   0.148515\n",
      "7    0.103497  0.979275   0.142569\n",
      "8    0.098381  0.957169   0.136234\n",
      "9    0.092884  0.911765   0.134126\n",
      "10   0.088870  0.895792   0.131568\n",
      "11   0.085941  0.879167   0.128898\n",
      "12   0.083106  0.860515   0.125000\n",
      "13   0.080227  0.837416   0.120958\n",
      "14   0.077870  0.836028   0.117026\n",
      "15   0.074066  0.824645   0.117171\n",
      "16   0.070892  0.815981   0.110398\n",
      "17   0.069018  0.805970   0.108236\n",
      "18   0.065855  0.820312   0.104393\n",
      "19   0.064128  0.807895   0.100395\n",
      "20   0.061922  0.814208   0.097486\n",
      "21   0.060498  0.814815   0.094264\n",
      "22   0.059695  0.815789   0.092418\n",
      "23   0.057997  0.796407   0.088116\n",
      "24   0.057208  0.796353   0.087156\n",
      "25   0.055427  0.788162   0.086031\n",
      "26   0.054447  0.757962   0.083686\n",
      "27   0.053855  0.740260   0.082139\n",
      "28   0.051703  0.742373   0.082158\n",
      "29   0.050897  0.716783   0.080974\n",
      "30   0.050201  0.694245   0.077665\n",
      "31   0.048874  0.685185   0.073668\n",
      "32   0.047656  0.697674   0.071009\n",
      "33   0.045748  0.692308   0.067434\n",
      "34   0.044309  0.672269   0.064168\n",
      "35   0.043042  0.646018   0.060375\n",
      "36   0.042814  0.665116   0.059327\n",
      "37   0.042399  0.673469   0.057830\n",
      "38   0.039892  0.688889   0.055791\n",
      "39   0.039713  0.717949   0.051442\n",
      "40   0.036938  0.730159   0.045161\n",
      "41   0.034138  0.732558   0.035264\n",
      "42   0.023102  0.666667   0.037736\n",
      "43   0.000000  0.000000   0.000000\n",
      "44        NaN       NaN        NaN\n",
      "45        NaN       NaN        NaN\n",
      "46        NaN       NaN        NaN\n",
      "47        NaN       NaN        NaN\n",
      "48        NaN       NaN        NaN\n",
      "49        NaN       NaN        NaN\n"
     ]
    }
   ],
   "source": [
    "#print(\"cut tot% g1293 % g1535 % g383 % g639 % g1190 % g2044 % g2279 % g2978 % g3142 % g1848 %\")\n",
    "total = []\n",
    "ml_return = []\n",
    "g1293 = [] #1280-1300\n",
    "g1535 = [] #1525-1545\n",
    "g848 = [] #840-860\n",
    "g383 = [] #380-390\n",
    "g292 = [] #285-298\n",
    "g639 = [] # 630-645\n",
    "g1190 = [] #1180-1200\n",
    "g2044 = [] #2035-2055\n",
    "g2279 = [] #2260-2290\n",
    "g2978 = [] #2960-2990\n",
    "g3142 = [] #3130-3160\n",
    "g1848 = [] #1835-1855\n",
    "g1430 = [] #1420-1440\n",
    "g2378 = [] #2370-2385\n",
    "g136 = [] #130-145\n",
    "g170 = [] #165-175\n",
    "g1293t = [] #1280-1300\n",
    "g1535t = [] #1525-1545\n",
    "g848t = [] #840-860\n",
    "g383t = [] #380-390\n",
    "g292t = [] #285-298\n",
    "g639t = [] # 630-645\n",
    "g1190t = [] #1180-1200\n",
    "g2044t = [] #2035-2055\n",
    "g2279t = [] #2260-2290\n",
    "g2978t = [] #2960-2990\n",
    "g3142t = [] #3130-3160\n",
    "g1848t = [] #1835-1855\n",
    "g1430t = [] #1420-1440\n",
    "g2378t = [] #2370-2385\n",
    "g136t = [] #130-145\n",
    "g170t = [] #165-175\n",
    "ratio1 = []\n",
    "ratio2 = []\n",
    "ratio3 = []\n",
    "for cut_val in range(50):\n",
    "    cut_low=cut_val*0.02\n",
    "    ml_return.append(cut_low)\n",
    "    #total count stuff\n",
    "    total_counts = result_df[(result_df['A'] > 0)]\n",
    "    total_counts_frac = result_df[(result_df['A'] > cut_low)]\n",
    "    if (total_counts.size>0):\n",
    "        total.append(total_counts_frac.size/total_counts.size)\n",
    "    #g3142 stuff\n",
    "    g3142_counts = result_df[(result_df['A'] > cut_low) & (result_df['ge'] >3130) \n",
    "                   & (result_df['ge'] < 3160) ]\n",
    "    g3142_tot = result_df[(result_df['ge'] >3130) \n",
    "                   & (result_df['ge'] < 3160) ]\n",
    "    if (g3142_tot.size>0):\n",
    "        g3142.append(g3142_counts.size/g3142_tot.size)\n",
    "    g3142t.append(g3142_counts.size/15)\n",
    "#g848 stuff\n",
    "    g848_counts = result_df[(result_df['A'] > cut_low) & (result_df['ge'] >845) \n",
    "                   & (result_df['ge'] < 855) ]\n",
    "    g848_tot = result_df[(result_df['ge'] >845) \n",
    "                   & (result_df['ge'] < 855) ]\n",
    "    if (g848_tot.size>0):\n",
    "        g848.append(g848_counts.size/g848_tot.size)\n",
    "    g848t.append(g848_counts.size/15)\n",
    "\n",
    "    #g2978 stuff\n",
    "    g2978_counts = result_df[(result_df['A'] > cut_low) & (result_df['ge'] >2960) \n",
    "                   & (result_df['ge'] < 2990) ]\n",
    "    g2978_tot = result_df[(result_df['ge'] >2960) \n",
    "                   & (result_df['ge'] < 2990) ]\n",
    "    if (g2978_tot.size>0):\n",
    "        g2978.append(g2978_counts.size/g2978_tot.size)\n",
    "    g2978t.append(g2978_counts.size/15)\n",
    "    #g2279 stuff\n",
    "    g2279_counts = result_df[(result_df['A'] > cut_low) & (result_df['ge'] >2260) \n",
    "                   & (result_df['ge'] < 2290) ]\n",
    "    g2279_tot = result_df[(result_df['ge'] >2260) \n",
    "                   & (result_df['ge'] < 2290) ]\n",
    "    if (g2279_tot.size>0):\n",
    "        g2279.append(g2279_counts.size/g2279_tot.size)\n",
    "    g2279t.append(g2279_counts.size/15)\n",
    "    #g2044 stuff\n",
    "    g2044_counts = result_df[(result_df['A'] > cut_low) & (result_df['ge'] >2035) \n",
    "                   & (result_df['ge'] < 2055) ]\n",
    "    g2044_tot = result_df[(result_df['ge'] >2035) \n",
    "                   & (result_df['ge'] < 2055) ]\n",
    "    if (g2044_tot.size>0):\n",
    "        g2044.append(g2044_counts.size/g2044_tot.size)\n",
    "    g2044t.append(g2044_counts.size/15)\n",
    "    #g1293 stuff\n",
    "    g1293_counts = result_df[(result_df['A'] > cut_low) & (result_df['ge'] >1280) \n",
    "                   & (result_df['ge'] < 1300) ]\n",
    "    g1293_tot = result_df[(result_df['ge'] >1280) \n",
    "                   & (result_df['ge'] < 1300) ]\n",
    "    if (g1293_tot.size>0):\n",
    "        g1293.append(g1293_counts.size/g1293_tot.size)\n",
    "    g1293t.append(g1293_counts.size/15)\n",
    "    #g1535 stuff #1525-1545\n",
    "    g1535_counts = result_df[(result_df['A'] > cut_low) & (result_df['ge'] >1525) \n",
    "                   & (result_df['ge'] < 1545) ]\n",
    "    g1535_tot = result_df[(result_df['ge'] >1525) \n",
    "                   & (result_df['ge'] < 1545) ]\n",
    "    if (g1535_tot.size>0):\n",
    "        g1535.append(g1535_counts.size/g1535_tot.size)\n",
    "    #g383 stuff\n",
    "    g383_counts = result_df[(result_df['A'] > cut_low) & (result_df['ge'] >380) \n",
    "                   & (result_df['ge'] < 390) ]\n",
    "    g383_tot = result_df[(result_df['ge'] >380) \n",
    "                   & (result_df['ge'] < 390) ]\n",
    "    if (g383_tot.size>0):\n",
    "        g383.append(g383_counts.size/g383_tot.size)\n",
    "    #g292 - 285-298\n",
    "    g292_counts = result_df[(result_df['A'] > cut_low) & (result_df['ge'] >285) \n",
    "                       & (result_df['ge'] < 298) ]\n",
    "    g292_tot = result_df[(result_df['ge'] >285) \n",
    "                       & (result_df['ge'] < 298) ]\n",
    "    if (g292_tot.size>0):\n",
    "        g292.append(g292_counts.size/g292_tot.size)\n",
    "    #g639 - 630-645\n",
    "    g639_counts = result_df[(result_df['A'] > cut_low) & (result_df['ge'] >630) \n",
    "                       & (result_df['ge'] < 645) ]\n",
    "    g639_tot = result_df[(result_df['ge'] >630) \n",
    "                       & (result_df['ge'] < 645) ]\n",
    "    if (g639_tot.size>0):\n",
    "        g639.append(g639_counts.size/g639_tot.size)\n",
    "    #g1190\n",
    "    g1190_counts = result_df[(result_df['A'] > cut_low) & (result_df['ge'] >1170) \n",
    "                       & (result_df['ge'] < 1210) ]\n",
    "    g1190_tot = result_df[(result_df['ge'] >1170) \n",
    "                       & (result_df['ge'] < 1210) ]\n",
    "    if (g1190_tot.size>0):\n",
    "        g1190.append(g1190_counts.size/g1190_tot.size)\n",
    "    g1190t.append(g1190_counts.size/15)\n",
    "    #g1848\n",
    "    g1848_counts = result_df[(result_df['A'] > cut_low) & (result_df['ge'] >1830) \n",
    "                       & (result_df['ge'] < 1850) ]\n",
    "    g1848_tot = result_df[(result_df['ge'] >1830) \n",
    "                       & (result_df['ge'] < 1850) ]\n",
    "    if (g1848_tot.size>0):\n",
    "        g1848.append(g1848_counts.size/g1848_tot.size)\n",
    "    #g1848\n",
    "    g1430_counts = result_df[(result_df['A'] > cut_low) & (result_df['ge'] >1420) \n",
    "                       & (result_df['ge'] < 1440) ]\n",
    "    g1430_tot = result_df[(result_df['ge'] >1420) \n",
    "                       & (result_df['ge'] < 1440) ]\n",
    "    if (g1430_tot.size>0):\n",
    "        g1430.append(g1430_counts.size/g1430_tot.size)\n",
    "    #g2378\n",
    "    g2378_counts = result_df[(result_df['A'] > cut_low) & (result_df['ge'] >2370) \n",
    "                       & (result_df['ge'] < 2390) ]\n",
    "    g2378_tot = result_df[(result_df['ge'] >2370) \n",
    "                       & (result_df['ge'] < 2390) ]\n",
    "    if (g2378_tot.size>0):\n",
    "        g2378.append(g2378_counts.size/g2378_tot.size)\n",
    "    #g136\n",
    "    g136_counts = result_df[(result_df['A'] > cut_low) & (result_df['ge'] >130) \n",
    "                       & (result_df['ge'] < 145) ]\n",
    "    g136_tot = result_df[(result_df['ge'] >130) \n",
    "                       & (result_df['ge'] < 145) ]\n",
    "    if (g136_tot.size>0):\n",
    "        g136.append(g136_counts.size/g136_tot.size)\n",
    "    #g170\n",
    "    g170_counts = result_df[(result_df['A'] > cut_low) & (result_df['ge'] >160) \n",
    "                       & (result_df['ge'] < 185) ]\n",
    "    g170_tot = result_df[(result_df['ge'] >160) \n",
    "                       & (result_df['ge'] < 185) ]\n",
    "    if (g170_tot.size>0):\n",
    "        g170.append(g170_counts.size/g170_tot.size)\n",
    "    ratio1.append(g1190_counts.size/g1293_counts.size)\n",
    "    ratio2.append(g639_counts.size/g383_counts.size)\n",
    "    ratio3.append(g3142_counts.size/g1535_counts.size)\n",
    "\n",
    "df_ratio=pd.DataFrame(ratio1, columns=['1190/1293'])\n",
    "df_ratio2=pd.DataFrame(ratio2, columns=['639/383'])\n",
    "df_ratio3=pd.DataFrame(ratio3, columns=['3142/1535'])\n",
    "\n",
    "df_ratio=pd.concat([df_ratio, df_ratio2], axis=1)\n",
    "df_ratio=pd.concat([df_ratio, df_ratio3], axis=1)\n",
    "\n",
    "df_frac=pd.DataFrame(ml_return, columns=['ml_return'])\n",
    "df_tot=pd.DataFrame(ml_return, columns=['ml_return'])\n",
    "\n",
    "df1293t=pd.DataFrame(g1293t, columns=['g1293t'])\n",
    "df1190t=pd.DataFrame(g1190t, columns=['g1190t'])\n",
    "df3142t=pd.DataFrame(g3142t, columns=['g3142t'])\n",
    "\n",
    "df_tot=pd.concat([df_tot, df1293t], axis=1)\n",
    "df_tot=pd.concat([df_tot, df1190t], axis=1)\n",
    "df_tot=pd.concat([df_tot, df3142t], axis=1)\n",
    "\n",
    "print(df_tot)\n",
    "df1293=pd.DataFrame(g1293, columns=['1293'])\n",
    "df1535=pd.DataFrame(g1535, columns=['1535'])\n",
    "df383=pd.DataFrame(g383, columns=['383'])\n",
    "df848=pd.DataFrame(g848, columns=['848'])\n",
    "df639=pd.DataFrame(g639, columns=['639'])\n",
    "df1190=pd.DataFrame(g1190, columns=['1190'])\n",
    "df2044=pd.DataFrame(g2044, columns=['2044'])\n",
    "df2279=pd.DataFrame(g2279, columns=['2279'])\n",
    "df2978=pd.DataFrame(g2978, columns=['2978'])\n",
    "df3142=pd.DataFrame(g3142, columns=['3142'])\n",
    "df1848=pd.DataFrame(g1848, columns=['1848'])\n",
    "df1430=pd.DataFrame(g1430, columns=['1430'])\n",
    "df2378=pd.DataFrame(g2378, columns=['2378'])\n",
    "df136=pd.DataFrame(g136, columns=['136'])\n",
    "df170=pd.DataFrame(g170, columns=['170'])\n",
    "\n",
    "df_frac = pd.concat([df_frac, df1293], axis=1)\n",
    "df_frac = pd.concat([df_frac, df1535], axis=1)\n",
    "df_frac = pd.concat([df_frac, df383], axis=1)\n",
    "df_frac = pd.concat([df_frac, df848], axis=1)\n",
    "df_frac = pd.concat([df_frac, df639], axis=1)\n",
    "df_frac = pd.concat([df_frac, df1190], axis=1)\n",
    "df_frac = pd.concat([df_frac, df2044], axis=1)\n",
    "df_frac = pd.concat([df_frac, df2279], axis=1)\n",
    "df_frac = pd.concat([df_frac, df2978], axis=1)\n",
    "df_frac = pd.concat([df_frac, df3142], axis=1)\n",
    "df_frac = pd.concat([df_frac, df1848], axis=1)\n",
    "df_frac = pd.concat([df_frac, df1430], axis=1)\n",
    "df_frac = pd.concat([df_frac, df2378], axis=1)\n",
    "df_frac = pd.concat([df_frac, df136], axis=1)\n",
    "df_frac = pd.concat([df_frac, df170], axis=1)\n",
    "\n",
    "df_plot = df_frac.set_index('ml_return').T\n",
    "#print(df_frac)\n",
    "print(df_ratio)"
   ]
  },
  {
   "cell_type": "code",
   "execution_count": 27,
   "metadata": {},
   "outputs": [
    {
     "data": {
      "text/plain": [
       "<matplotlib.legend.Legend at 0x13963f7d0>"
      ]
     },
     "execution_count": 27,
     "metadata": {},
     "output_type": "execute_result"
    },
    {
     "data": {
      "image/png": "[encoded data removed]",
      "text/plain": [
       "<Figure size 1080x504 with 1 Axes>"
      ]
     },
     "metadata": {
      "needs_background": "light"
     },
     "output_type": "display_data"
    },
    {
     "data": {
      "image/png": "[encoded data removed]",
      "text/plain": [
       "<Figure size 1080x504 with 1 Axes>"
      ]
     },
     "metadata": {
      "needs_background": "light"
     },
     "output_type": "display_data"
    }
   ],
   "source": [
    "Headers = df_frac.columns.values.tolist()\n",
    "import plotly.graph_objs as go\n",
    "from plotly import tools\n",
    "\n",
    "df_ratio.plot(figsize=(15,7), xticks=range(0, 50)).legend(bbox_to_anchor=(1, 1))\n",
    "df_frac.plot.line(x='ml_return',figsize=(15,7)).legend(bbox_to_anchor=(1, 1))"
   ]
  },
  {
   "cell_type": "code",
   "execution_count": null,
   "metadata": {},
   "outputs": [],
   "source": []
  },
  {
   "cell_type": "code",
   "execution_count": null,
   "metadata": {},
   "outputs": [],
   "source": []
  },
  {
   "cell_type": "code",
   "execution_count": null,
   "metadata": {},
   "outputs": [],
   "source": []
  },
  {
   "cell_type": "code",
   "execution_count": null,
   "metadata": {},
   "outputs": [],
   "source": []
  }
 ],
 "metadata": {
  "kernelspec": {
   "display_name": "Python 3",
   "language": "python",
   "name": "python3"
  },
  "language_info": {
   "codemirror_mode": {
    "name": "ipython",
    "version": 3
   },
   "file_extension": ".py",
   "mimetype": "text/x-python",
   "name": "python",
   "nbconvert_exporter": "python",
   "pygments_lexer": "ipython3",
   "version": "3.7.4"
  }
 },
 "nbformat": 4,
 "nbformat_minor": 2
}
